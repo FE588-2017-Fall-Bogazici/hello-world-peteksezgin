{
 "cells": [
  {
   "cell_type": "markdown",
   "metadata": {},
   "source": [
    "Question 1"
   ]
  },
  {
   "cell_type": "code",
   "execution_count": 17,
   "metadata": {},
   "outputs": [
    {
     "name": "stdout",
     "output_type": "stream",
     "text": [
      "[5, 29, -42, -52, -62, 30, -7, -5, -75, -51, 85, 96, -99, 56, -79, -36, -29, 56, -24, -57, -14, -44, -91, 46, 58, 39, -5, -80, -65, 5, -57, 45, 56, -79, 58, -31, -16, -8, 49, -57, -20, -40, -98, 83, -21, 39, 19, -40, -100, -70, 17, -78, 95, -70, 20, 11, -64, 58, 33, -29, -72, 8, 51, 52, -79, 5, -2, 71, 3, 88, 78, 19, -61, 63, -71, -56, 2, -16, -76, -48, -61, -30, -89, -28, 96, -80, -22, 58, -11, -33, 31, 18, -9, 40, 39, -62, -92, 70, 18, -53, 10, 54, 29, 78, 97, 19, 39, 54, -27, 90, -12, 40, -76, 79, -39, -3, -28, -15, -10, -6, -64, -83, 63, 33, -61, 68, 1, -52, 30, 88, -52, 89, 41, -29, 14, 24, -59, -99, 7, 93, 13, -46, 80, 86, -61, -9, -83, -1, -72, -25, 81, -46, -77, -26, -38, 26, -98, -59, 61, -21, 25, -26, 27, 5, 69, 67, 69, 76, 84, 10, 35, 85, 31, -90, 37, 20, 62, 77, -29, -58, 63, -49, 91, -22, 87, 65, 32, -80, 78, -60, 29, -47, 13, -29, -93, 15, 90, 99, 97, 50]\n",
      "[0.03, 0.17, -0.04, -0.3, -0.61, -0.46, -0.49, -0.52, -0.9, -1.15, -0.72, -0.24, -0.74, -0.46, -0.85, -1.03, -1.18, -0.9, -1.02, -1.3, -1.38, -1.59, -2.05, -1.82, -1.53, -1.33, -1.36, -1.76, -2.08, -2.06, -2.35, -2.12, -1.84, -2.23, -1.95, -2.1, -2.18, -2.22, -1.98, -2.26, -2.36, -2.56, -3.05, -2.63, -2.74, -2.54, -2.45, -2.65, -3.15, -3.5, -3.42, -3.81, -3.33, -3.68, -3.58, -3.52, -3.85, -3.56, -3.39, -3.54, -3.9, -3.85, -3.6, -3.34, -3.73, -3.71, -3.72, -3.37, -3.35, -2.91, -2.52, -2.42, -2.73, -2.42, -2.77, -3.05, -3.04, -3.12, -3.5, -3.74, -4.04, -4.2, -4.64, -4.78, -4.3, -4.7, -4.81, -4.52, -4.58, -4.74, -4.58, -4.5, -4.54, -4.34, -4.14, -4.46, -4.92, -4.57, -4.47, -4.74, -4.69, -4.42, -4.28, -3.88, -3.4, -3.31, -3.11, -2.84, -2.98, -2.52, -2.58, -2.38, -2.77, -2.37, -2.56, -2.58, -2.72, -2.79, -2.85, -2.88, -3.19, -3.61, -3.29, -3.13, -3.44, -3.1, -3.09, -3.35, -3.2, -2.76, -3.02, -2.58, -2.37, -2.52, -2.44, -2.33, -2.62, -3.12, -3.08, -2.62, -2.55, -2.78, -2.38, -1.95, -2.25, -2.3, -2.71, -2.72, -3.08, -3.21, -2.8, -3.03, -3.42, -3.54, -3.73, -3.6, -4.09, -4.39, -4.08, -4.19, -4.07, -4.2, -4.06, -4.04, -3.69, -3.35, -3.01, -2.63, -2.21, -2.16, -1.99, -1.56, -1.41, -1.85, -1.67, -1.57, -1.26, -0.88, -1.02, -1.31, -0.99, -1.24, -0.79, -0.9, -0.46, -0.14, 0.03, -0.38, 0.01, -0.28, -0.14, -0.38, -0.31, -0.46, -0.92, -0.84, -0.4, 0.1, 0.58, 0.83]\n"
     ]
    },
    {
     "data": {
      "text/plain": [
       "[<matplotlib.lines.Line2D at 0x1a1479e36a0>]"
      ]
     },
     "execution_count": 17,
     "metadata": {},
     "output_type": "execute_result"
    },
    {
     "data": {
      "image/png": "[encoded data removed]",
      "text/plain": [
       "<matplotlib.figure.Figure at 0x1a1478c1f28>"
      ]
     },
     "metadata": {},
     "output_type": "display_data"
    }
   ],
   "source": [
    "import numpy as np\n",
    "\n",
    "L = 200\n",
    "p_list= []\n",
    "for i in range(0,L):\n",
    "  p_list.append(np.random.randint(-100,100))\n",
    "\n",
    "MAlist= []\n",
    "\n",
    "for n in range(1, L+1):\n",
    "    average = 0\n",
    "    for i in range(n, 0, -1):\n",
    "        average = average + p_list[i-1]\n",
    "    MAlist.append(round(average/len(p_list),2))\n",
    "\n",
    "print(p_list)\n",
    "print(MAlist)\n",
    "\n",
    "%matplotlib inline\n",
    "import matplotlib as mpl\n",
    "import matplotlib.pyplot as plt\n",
    "import numpy as np\n",
    "\n",
    "plt.plot(MAlist)"
   ]
  },
  {
   "cell_type": "markdown",
   "metadata": {},
   "source": [
    "Question 2"
   ]
  },
  {
   "cell_type": "code",
   "execution_count": 12,
   "metadata": {
    "collapsed": true
   },
   "outputs": [],
   "source": [
    "#European Call&Put\n",
    "import math\n",
    "def binom(K,T,S,sigma,r,N,type):\n",
    "    \n",
    "    dt=T/N;\n",
    "    dxu=math.exp(sigma*math.sqrt(dt));\n",
    "    dxd=math.exp(-sigma*math.sqrt(dt));\n",
    "    pu=((math.exp(r*dt))-dxd)/(dxu-dxd);\n",
    "    pd=1-pu;\n",
    "    disc=math.exp(-r*dt);\n",
    "\n",
    "    St = [0] * (N+1)\n",
    "    C = [0] * (N+1)\n",
    "    \n",
    "    St[0]=S*dxd**N;\n",
    "    \n",
    "    for j in range(1, N+1): \n",
    "        St[j] = St[j-1] * dxu/dxd;\n",
    "    \n",
    "    for j in range(1, N+1):\n",
    "        if type == 'p':\n",
    "            C[j] = max(K-St[j],0);\n",
    "        elif type == 'c':\n",
    "            C[j] = max(St[j]-K,0);\n",
    "    \n",
    "    for i in range(N, 0, -1):\n",
    "        for j in range(0, i):\n",
    "            C[j] = disc*(pu*C[j+1]+pd*C[j]);\n",
    "            \n",
    "    return C[0]"
   ]
  },
  {
   "cell_type": "code",
   "execution_count": 13,
   "metadata": {
    "scrolled": true
   },
   "outputs": [
    {
     "data": {
      "text/plain": [
       "34.95991658677951"
      ]
     },
     "execution_count": 13,
     "metadata": {},
     "output_type": "execute_result"
    }
   ],
   "source": [
    "binom(200,4,150,0.06,0.02,1000,'p')"
   ]
  },
  {
   "cell_type": "code",
   "execution_count": null,
   "metadata": {},
   "outputs": [],
   "source": []
  }
 ],
 "metadata": {
  "kernelspec": {
   "display_name": "Python 3",
   "language": "python",
   "name": "python3"
  },
  "language_info": {
   "codemirror_mode": {
    "name": "ipython",
    "version": 3
   },
   "file_extension": ".py",
   "mimetype": "text/x-python",
   "name": "python",
   "nbconvert_exporter": "python",
   "pygments_lexer": "ipython3",
   "version": "3.6.1"
  }
 },
 "nbformat": 4,
 "nbformat_minor": 2
}
