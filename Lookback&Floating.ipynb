{
 "cells": [
  {
   "cell_type": "markdown",
   "metadata": {},
   "source": [
    "Lookback Option Pricing"
   ]
  },
  {
   "cell_type": "code",
   "execution_count": 1,
   "metadata": {},
   "outputs": [
    {
     "name": "stdout",
     "output_type": "stream",
     "text": [
      "Call: 0.0\n",
      "Put: 13.0990189809\n"
     ]
    }
   ],
   "source": [
    "import numpy as np\n",
    "import math\n",
    "\n",
    "r = 0.05\n",
    "s0 = 100\n",
    "K = 110\n",
    "sigma = 0.1\n",
    "T=1\n",
    "N=100\n",
    "EPOCH=100\n",
    "\n",
    "C=0\n",
    "P=0\n",
    "wt=0\n",
    "st=[]\n",
    "\n",
    "for i in range(EPOCH):\n",
    "    for i in range(N):\n",
    "        wt= np.random.randn()*np.sqrt(T/N)\n",
    "        st1 = s0* np.exp((r-1/2*sigma**2)*(T/N)+sigma*wt)\n",
    "        st.append(st1)\n",
    "\n",
    "    C += np.exp(-r*T)*max(0,(max(st)-K))\n",
    "    P += np.exp(-r*T)*max(0,(K-min(st)))\n",
    "\n",
    "call_Price = C/EPOCH\n",
    "put_Price = P/EPOCH\n",
    "\n",
    "print('Call:',call_Price)\n",
    "print('Put:',put_Price)"
   ]
  },
  {
   "cell_type": "code",
   "execution_count": null,
   "metadata": {
    "collapsed": true
   },
   "outputs": [],
   "source": [
    "Floating Lookback Option Pricing"
   ]
  },
  {
   "cell_type": "code",
   "execution_count": 3,
   "metadata": {},
   "outputs": [
    {
     "name": "stdout",
     "output_type": "stream",
     "text": [
      "Call Price: 3.48262155422\n",
      "Put Price: 3.0136048893\n"
     ]
    }
   ],
   "source": [
    "import numpy as np\n",
    "\n",
    "r = 0.05\n",
    "s0 = 100\n",
    "K = 110\n",
    "sigma = 0.1\n",
    "T=1\n",
    "N=100\n",
    "EPOCH=100\n",
    "\n",
    "C=0\n",
    "P=0\n",
    "wt=0\n",
    "st=0\n",
    "st=[]\n",
    "\n",
    "for i in range(EPOCH):\n",
    "    for i in range(N):\n",
    "        wt= np.random.randn()*np.sqrt(T/N)\n",
    "        st1 = s0* np.exp((r-1/2*sigma**2)*(T/N)+sigma*wt)\n",
    "        st.append(st1)\n",
    "\n",
    "    C += np.exp(-r*T)*max(0,(st1-min(st)))\n",
    "    P += np.exp(-r*T)*max(0,(max(st)-st1))\n",
    "\n",
    "call_Price = C/EPOCH\n",
    "put_Price = P/EPOCH\n",
    "\n",
    "print('Call Price:',call_Price)\n",
    "print('Put Price:',put_Price)"
   ]
  }
 ],
 "metadata": {
  "kernelspec": {
   "display_name": "Python 3",
   "language": "python",
   "name": "python3"
  },
  "language_info": {
   "codemirror_mode": {
    "name": "ipython",
    "version": 3
   },
   "file_extension": ".py",
   "mimetype": "text/x-python",
   "name": "python",
   "nbconvert_exporter": "python",
   "pygments_lexer": "ipython3",
   "version": "3.6.1"
  }
 },
 "nbformat": 4,
 "nbformat_minor": 2
}
