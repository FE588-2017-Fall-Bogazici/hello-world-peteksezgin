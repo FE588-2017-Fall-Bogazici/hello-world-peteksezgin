{
 "cells": [
  {
   "cell_type": "code",
   "execution_count": 1,
   "metadata": {},
   "outputs": [
    {
     "name": "stdout",
     "output_type": "stream",
     "text": [
      "petek sezgin\n"
     ]
    }
   ],
   "source": [
    "print('petek sezgin')"
   ]
  },
  {
   "cell_type": "code",
   "execution_count": 13,
   "metadata": {},
   "outputs": [
    {
     "name": "stdout",
     "output_type": "stream",
     "text": [
      "0.0 -4.0\n",
      "0.1 -3.69\n",
      "0.2 -3.36\n",
      "0.3 -3.01\n",
      "0.4 -2.64\n",
      "0.5 -2.25\n",
      "0.6 -1.84\n",
      "0.7 -1.41\n",
      "0.8 -0.96\n",
      "0.9 -0.49\n"
     ]
    }
   ],
   "source": [
    "import numpy as np\n",
    "for i in np.arange(0, 1, 0.1):\n",
    "    y=i**2+3*i-4\n",
    "    print(i, y)"
   ]
  }
 ],
 "metadata": {
  "kernelspec": {
   "display_name": "Python 3",
   "language": "python",
   "name": "python3"
  },
  "language_info": {
   "codemirror_mode": {
    "name": "ipython",
    "version": 3
   },
   "file_extension": ".py",
   "mimetype": "text/x-python",
   "name": "python",
   "nbconvert_exporter": "python",
   "pygments_lexer": "ipython3",
   "version": "3.6.1"
  }
 },
 "nbformat": 4,
 "nbformat_minor": 2
}
